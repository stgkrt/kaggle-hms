{
 "cells": [
  {
   "cell_type": "code",
   "execution_count": 1,
   "metadata": {},
   "outputs": [],
   "source": [
    "import os\n",
    "from glob import glob\n",
    "import numpy as np\n",
    "import pandas as pd"
   ]
  },
  {
   "cell_type": "code",
   "execution_count": 2,
   "metadata": {},
   "outputs": [],
   "source": [
    "comp_dir = \"/kaggle/input/hms-harmful-brain-activity-classification/\"\n",
    "train_df_path = os.path.join(comp_dir, \"train.csv\")\n",
    "train_df = pd.read_csv(train_df_path)"
   ]
  },
  {
   "cell_type": "code",
   "execution_count": 3,
   "metadata": {},
   "outputs": [
    {
     "name": "stdout",
     "output_type": "stream",
     "text": [
      "['seizure_vote', 'lpd_vote', 'gpd_vote', 'lrda_vote', 'grda_vote', 'other_vote']\n"
     ]
    }
   ],
   "source": [
    "vote_cols = [col for col in train_df.columns if \"vote\" in col]\n",
    "print(vote_cols)\n",
    "train_df[\"vote_num\"] = train_df[vote_cols].sum(axis=1)"
   ]
  },
  {
   "cell_type": "code",
   "execution_count": 4,
   "metadata": {},
   "outputs": [
    {
     "data": {
      "text/plain": [
       "vote_num\n",
       "1      4360\n",
       "2      2316\n",
       "3     51867\n",
       "4      3451\n",
       "5      3974\n",
       "6       883\n",
       "7         3\n",
       "10     1146\n",
       "11     2602\n",
       "12     4356\n",
       "13     7525\n",
       "14     3887\n",
       "15    10665\n",
       "16     5191\n",
       "17     1445\n",
       "18     1934\n",
       "19      250\n",
       "20      634\n",
       "21      179\n",
       "22       54\n",
       "23       24\n",
       "24       17\n",
       "25       20\n",
       "26        6\n",
       "27        5\n",
       "28        6\n",
       "Name: count, dtype: int64"
      ]
     },
     "execution_count": 4,
     "metadata": {},
     "output_type": "execute_result"
    }
   ],
   "source": [
    "train_df[\"vote_num\"].value_counts().sort_index()"
   ]
  },
  {
   "cell_type": "code",
   "execution_count": 5,
   "metadata": {},
   "outputs": [
    {
     "name": "stdout",
     "output_type": "stream",
     "text": [
      "51867 39794\n"
     ]
    }
   ],
   "source": [
    "three_votes = train_df[train_df[\"vote_num\"] == 3].reset_index(drop=True)\n",
    "# *_voteのmaxが3のデータを抽出\n",
    "max_three_votes = three_votes[three_votes[vote_cols].max(axis=1) == 3].reset_index(drop=True)\n",
    "print(len(three_votes), len(max_three_votes))"
   ]
  },
  {
   "cell_type": "code",
   "execution_count": 6,
   "metadata": {},
   "outputs": [
    {
     "name": "stdout",
     "output_type": "stream",
     "text": [
      "106800 46677\n"
     ]
    }
   ],
   "source": [
    "# vote numが2以上のデータのうち、maxがvote_numと一致するものを抽出\n",
    "reliable_votes = train_df[train_df[\"vote_num\"] >= 2].reset_index(drop=True)\n",
    "reliable_votes = reliable_votes[(reliable_votes[vote_cols].max(axis=1) == reliable_votes[\"vote_num\"])].reset_index(drop=True)\n",
    "print(len(train_df), len(reliable_votes))\n",
    "reliable_votes = reliable_votes.drop(\"vote_num\", axis=1)\n",
    "reliable_votes_path = os.path.join(comp_dir, \"reliable_votes.csv\")\n",
    "reliable_votes.to_csv(reliable_votes_path, index=False)"
   ]
  },
  {
   "cell_type": "code",
   "execution_count": 7,
   "metadata": {},
   "outputs": [
    {
     "name": "stdout",
     "output_type": "stream",
     "text": [
      "106800 83104\n"
     ]
    }
   ],
   "source": [
    "# vote numが2以上のデータのうち、maxがvote_numと一致するものを抽出\n",
    "reliable_votes = train_df[train_df[\"vote_num\"] >= 2].reset_index(drop=True)\n",
    "reliable_votes = reliable_votes[(reliable_votes[vote_cols].max(axis=1) == reliable_votes[\"vote_num\"]) | (reliable_votes[\"vote_num\"] >= 10)].reset_index(drop=True)\n",
    "print(len(train_df), len(reliable_votes))\n",
    "reliable_votes = reliable_votes.drop(\"vote_num\", axis=1)\n",
    "reliable_votes_path = os.path.join(comp_dir, \"reliable_votes_withover10.csv\")\n",
    "reliable_votes.to_csv(reliable_votes_path, index=False)"
   ]
  },
  {
   "cell_type": "code",
   "execution_count": null,
   "metadata": {},
   "outputs": [],
   "source": []
  }
 ],
 "metadata": {
  "kernelspec": {
   "display_name": "base",
   "language": "python",
   "name": "python3"
  },
  "language_info": {
   "codemirror_mode": {
    "name": "ipython",
    "version": 3
   },
   "file_extension": ".py",
   "mimetype": "text/x-python",
   "name": "python",
   "nbconvert_exporter": "python",
   "pygments_lexer": "ipython3",
   "version": "3.10.12"
  }
 },
 "nbformat": 4,
 "nbformat_minor": 2
}
