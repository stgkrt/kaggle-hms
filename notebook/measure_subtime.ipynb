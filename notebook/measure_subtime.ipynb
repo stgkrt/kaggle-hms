{
 "cells": [
  {
   "cell_type": "code",
   "execution_count": 1,
   "metadata": {},
   "outputs": [
    {
     "name": "stdout",
     "output_type": "stream",
     "text": [
      "{'username': 'stgkrtua', 'key': '98c56773131cbfff620779afddb73f0b'}\n"
     ]
    }
   ],
   "source": [
    "import os\n",
    "import json\n",
    "f = open(\"./kaggle.json\", 'r')#kaggle.jsonが保存してあるパスを指定する。\n",
    "json_data = json.load(f) \n",
    "print(json_data)\n",
    "os.environ['KAGGLE_USERNAME'] = json_data['username']\n",
    "os.environ['KAGGLE_KEY'] = json_data['key']"
   ]
  },
  {
   "cell_type": "code",
   "execution_count": 2,
   "metadata": {},
   "outputs": [],
   "source": [
    "from kaggle.api.kaggle_api_extended import KaggleApi\n",
    "import datetime\n",
    "from datetime import timezone\n",
    "import time\n",
    "\n",
    "api = KaggleApi()\n",
    "api.authenticate()"
   ]
  },
  {
   "cell_type": "code",
   "execution_count": 3,
   "metadata": {},
   "outputs": [
    {
     "name": "stdout",
     "output_type": "stream",
     "text": [
      "37086781\n",
      " run-time: 219 min, LB: 0.51\n"
     ]
    }
   ],
   "source": [
    "COMPETITION =  'hms-harmful-brain-activity-classification'\n",
    "result_ = api.competition_submissions(COMPETITION)[0]\n",
    "print(result_)\n",
    "latest_ref = str(result_)  # 最新のサブミット番号\n",
    "submit_time = result_.date\n",
    "\n",
    "status = ''\n",
    "\n",
    "while status != 'complete':\n",
    "    list_of_submission = api.competition_submissions(COMPETITION)\n",
    "    for result in list_of_submission:\n",
    "        if str(result.ref) == latest_ref:\n",
    "            break\n",
    "    status = result.status\n",
    "\n",
    "    now = datetime.datetime.now(timezone.utc).replace(tzinfo=None)\n",
    "    elapsed_time = int((now - submit_time).seconds / 60) + 1\n",
    "    if status == 'complete':\n",
    "        print('\\r', f'run-time: {elapsed_time} min, LB: {result.publicScore}')\n",
    "    else:\n",
    "        print('\\r', f'elapsed time: {elapsed_time} min', end='')\n",
    "        time.sleep(30)"
   ]
  }
 ],
 "metadata": {
  "kernelspec": {
   "display_name": "base",
   "language": "python",
   "name": "python3"
  },
  "language_info": {
   "codemirror_mode": {
    "name": "ipython",
    "version": 3
   },
   "file_extension": ".py",
   "mimetype": "text/x-python",
   "name": "python",
   "nbconvert_exporter": "python",
   "pygments_lexer": "ipython3",
   "version": "3.10.12"
  }
 },
 "nbformat": 4,
 "nbformat_minor": 4
}
