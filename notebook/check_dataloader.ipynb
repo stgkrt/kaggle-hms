{
 "cells": [
  {
   "cell_type": "code",
   "execution_count": null,
   "metadata": {},
   "outputs": [],
   "source": [
    "import pandas as pd\n",
    "import numpy as np\n",
    "import torch\n",
    "import matplotlib.pyplot as plt"
   ]
  },
  {
   "cell_type": "code",
   "execution_count": null,
   "metadata": {},
   "outputs": [],
   "source": [
    "import sys\n",
    "sys.path.append('/kaggle/src')\n",
    "\n",
    "from config import CFG\n",
    "from data.dataloader import CustomDataset"
   ]
  },
  {
   "cell_type": "code",
   "execution_count": null,
   "metadata": {},
   "outputs": [],
   "source": [
    "\n",
    "config = CFG()\n",
    "train = pd.read_csv(config.train_csv)\n",
    "train = train[\n",
    "    train[\"label_id\"].isin(\n",
    "        np.load(config.eggs_path, allow_pickle=True).item().keys()\n",
    "    )\n",
    "].copy()\n",
    "train = train.reset_index(drop=True)\n",
    "train = train.iloc[:10]\n",
    "dataset = CustomDataset(train, config, mode=\"train\", augment=False)\n",
    "# for i in range(10):\n",
    "#     print(dataset[i])\n",
    "dataloader = torch.utils.data.DataLoader(\n",
    "    dataset, batch_size=2, shuffle=True, num_workers=0\n",
    ")\n",
    "for x in dataloader:\n",
    "    print(x[\"spectrogram\"].shape)\n",
    "    print(x[\"labels\"].shape)\n",
    "    break"
   ]
  },
  {
   "cell_type": "markdown",
   "metadata": {},
   "source": [
    "seizure, lpd, gpd, lrda, grda, other"
   ]
  },
  {
   "cell_type": "code",
   "execution_count": null,
   "metadata": {},
   "outputs": [],
   "source": [
    "SPEC_NUM = 4\n",
    "EEG_NUM = 4\n",
    "\n",
    "for x in dataloader:\n",
    "    # print(x.keys())\n",
    "    # print(x[\"spectrogram\"].shape)\n",
    "    # print(x[\"labels\"].shape)\n",
    "    for batch in range(x[\"spectrogram\"].shape[0]):\n",
    "        print(x[\"labels\"][batch].numpy())\n",
    "        specs_eegs = x[\"spectrogram\"][batch].numpy()\n",
    "        plt.figure(figsize=(20, 10))\n",
    "        for spec_idx in range(SPEC_NUM):\n",
    "            spec_img = specs_eegs[:,:,spec_idx]\n",
    "            plt.subplot(1, SPEC_NUM, spec_idx+1)\n",
    "            plt.imshow(spec_img, cmap='viridis')\n",
    "            plt.axis('off')\n",
    "        plt.show()\n",
    "        plt.figure(figsize=(20, 10))\n",
    "        for eeg_idx in range(EEG_NUM):\n",
    "            eeg = specs_eegs[:,:,eeg_idx+SPEC_NUM]\n",
    "            plt.subplot(1, EEG_NUM, eeg_idx+1)\n",
    "            plt.imshow(eeg, cmap='viridis')\n",
    "            plt.axis('off')\n",
    "        plt.show()\n",
    "\n",
    "    break"
   ]
  },
  {
   "cell_type": "code",
   "execution_count": null,
   "metadata": {},
   "outputs": [],
   "source": []
  }
 ],
 "metadata": {
  "kernelspec": {
   "display_name": "base",
   "language": "python",
   "name": "python3"
  },
  "language_info": {
   "codemirror_mode": {
    "name": "ipython",
    "version": 3
   },
   "file_extension": ".py",
   "mimetype": "text/x-python",
   "name": "python",
   "nbconvert_exporter": "python",
   "pygments_lexer": "ipython3",
   "version": "3.10.12"
  }
 },
 "nbformat": 4,
 "nbformat_minor": 2
}
