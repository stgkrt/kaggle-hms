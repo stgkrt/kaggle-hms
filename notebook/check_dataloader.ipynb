{
 "cells": [
  {
   "cell_type": "code",
   "execution_count": 1,
   "metadata": {},
   "outputs": [],
   "source": [
    "import pandas as pd\n",
    "import numpy as np\n",
    "import torch"
   ]
  },
  {
   "cell_type": "code",
   "execution_count": 2,
   "metadata": {},
   "outputs": [
    {
     "name": "stderr",
     "output_type": "stream",
     "text": [
      "/opt/conda/lib/python3.10/site-packages/scipy/__init__.py:146: UserWarning: A NumPy version >=1.16.5 and <1.23.0 is required for this version of SciPy (detected version 1.26.4\n",
      "  warnings.warn(f\"A NumPy version >={np_minversion} and <{np_maxversion}\"\n"
     ]
    }
   ],
   "source": [
    "import sys\n",
    "sys.path.append('/kaggle/src')\n",
    "\n",
    "from config import CFG\n",
    "from data.dataloader import CustomDataset"
   ]
  },
  {
   "cell_type": "code",
   "execution_count": 3,
   "metadata": {},
   "outputs": [
    {
     "name": "stdout",
     "output_type": "stream",
     "text": [
      "torch.Size([2, 128, 256, 8])\n",
      "torch.Size([2, 6])\n"
     ]
    }
   ],
   "source": [
    "\n",
    "config = CFG()\n",
    "train = pd.read_csv(config.train_csv)\n",
    "train = train[\n",
    "    train[\"label_id\"].isin(\n",
    "        np.load(config.eggs_path, allow_pickle=True).item().keys()\n",
    "    )\n",
    "].copy()\n",
    "train = train.reset_index(drop=True)\n",
    "train = train.iloc[:10]\n",
    "dataset = CustomDataset(train, config, mode=\"train\", augment=True)\n",
    "# for i in range(10):\n",
    "#     print(dataset[i])\n",
    "dataloader = torch.utils.data.DataLoader(\n",
    "    dataset, batch_size=2, shuffle=True, num_workers=0\n",
    ")\n",
    "for x in dataloader:\n",
    "    print(x[\"spectrogram\"].shape)\n",
    "    print(x[\"labels\"].shape)\n",
    "    break"
   ]
  },
  {
   "cell_type": "code",
   "execution_count": 5,
   "metadata": {},
   "outputs": [
    {
     "name": "stdout",
     "output_type": "stream",
     "text": [
      "dict_keys(['spectrogram', 'labels'])\n",
      "torch.Size([2, 128, 256, 8])\n",
      "torch.Size([2, 6])\n"
     ]
    }
   ],
   "source": [
    "for x in dataloader:\n",
    "    print(x.keys())\n",
    "    print(x[\"spectrogram\"].shape)\n",
    "    print(x[\"labels\"].shape)\n",
    "    break"
   ]
  },
  {
   "cell_type": "code",
   "execution_count": null,
   "metadata": {},
   "outputs": [],
   "source": []
  }
 ],
 "metadata": {
  "kernelspec": {
   "display_name": "base",
   "language": "python",
   "name": "python3"
  },
  "language_info": {
   "codemirror_mode": {
    "name": "ipython",
    "version": 3
   },
   "file_extension": ".py",
   "mimetype": "text/x-python",
   "name": "python",
   "nbconvert_exporter": "python",
   "pygments_lexer": "ipython3",
   "version": "3.10.12"
  }
 },
 "nbformat": 4,
 "nbformat_minor": 2
}
