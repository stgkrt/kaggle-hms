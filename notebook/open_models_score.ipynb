{
 "cells": [
  {
   "cell_type": "code",
   "execution_count": 1,
   "metadata": {},
   "outputs": [],
   "source": [
    "import os\n",
    "import pandas as pd\n",
    "import numpy as np\n",
    "import yaml\n",
    "from tqdm import tqdm\n",
    "\n",
    "#セットアップ\n",
    "tqdm.pandas()\n",
    "\n",
    "import sys\n",
    "sys.path.append(\"/kaggle/src\")\n",
    "from kaggle_metrics.kaggle_kl_div import compute_each_score"
   ]
  },
  {
   "cell_type": "code",
   "execution_count": 2,
   "metadata": {},
   "outputs": [],
   "source": [
    "model1_oof_path = \"/kaggle/working/open_resnet34d/oof.csv\"\n",
    "model2_oof_path = \"/kaggle/working/open_tf_efficientnet_b0_ns/oof.csv\"\n",
    "model3_oof_path = \"/kaggle/working/open_tf_efficientnet_b1_ns/oof.csv\"\n",
    "\n",
    "\n",
    "model1_oof = pd.read_csv(model1_oof_path)\n",
    "model2_oof = pd.read_csv(model2_oof_path)\n",
    "model3_oof = pd.read_csv(model3_oof_path)"
   ]
  },
  {
   "cell_type": "code",
   "execution_count": 3,
   "metadata": {},
   "outputs": [],
   "source": [
    "# *_voteの最大値の列名を取得\n",
    "vote_cols = [\"seizure_vote\", \"lpd_vote\", \"gpd_vote\", \"lrda_vote\", \"grda_vote\", \"other_vote\"]\n",
    "model1_oof[\"expert_consensus\"] = model1_oof[vote_cols].idxmax(axis=1)\n",
    "model2_oof[\"expert_consensus\"] = model2_oof[vote_cols].idxmax(axis=1)\n",
    "model3_oof[\"expert_consensus\"] = model3_oof[vote_cols].idxmax(axis=1)"
   ]
  },
  {
   "cell_type": "code",
   "execution_count": 4,
   "metadata": {},
   "outputs": [],
   "source": [
    "def softmax(x):\n",
    "    return np.exp(x) / np.sum(np.exp(x), axis=0)"
   ]
  },
  {
   "cell_type": "code",
   "execution_count": 5,
   "metadata": {},
   "outputs": [
    {
     "name": "stdout",
     "output_type": "stream",
     "text": [
      "['pred_seizure_vote', 'pred_lpd_vote', 'pred_gpd_vote', 'pred_lrda_vote', 'pred_grda_vote', 'pred_other_vote']\n"
     ]
    }
   ],
   "source": [
    "pred_cols = [col for col in model1_oof.columns if \"pred\" in col]\n",
    "print(pred_cols)"
   ]
  },
  {
   "cell_type": "code",
   "execution_count": 6,
   "metadata": {},
   "outputs": [
    {
     "name": "stderr",
     "output_type": "stream",
     "text": [
      "100%|██████████| 6/6 [00:00<00:00, 3192.01it/s]\n",
      "100%|██████████| 8873/8873 [00:00<00:00, 12386.03it/s]\n",
      "100%|██████████| 6/6 [00:00<00:00, 3145.33it/s]\n",
      "100%|██████████| 8873/8873 [00:00<00:00, 12848.01it/s]\n",
      "100%|██████████| 6/6 [00:00<00:00, 3247.62it/s]\n",
      "100%|██████████| 8873/8873 [00:00<00:00, 12954.49it/s]\n"
     ]
    }
   ],
   "source": [
    "model1_oof[pred_cols] = model1_oof[pred_cols].progress_apply(softmax)\n",
    "model1_oof[pred_cols] = model1_oof[pred_cols].progress_apply(lambda x: x / np.sum(x), axis=1)\n",
    "\n",
    "model2_oof[pred_cols] = model2_oof[pred_cols].progress_apply(softmax)\n",
    "model2_oof[pred_cols] = model2_oof[pred_cols].progress_apply(lambda x: x / np.sum(x), axis=1)\n",
    "\n",
    "model3_oof[pred_cols] = model3_oof[pred_cols].progress_apply(softmax)\n",
    "model3_oof[pred_cols] = model3_oof[pred_cols].progress_apply(lambda x: x / np.sum(x), axis=1)"
   ]
  },
  {
   "cell_type": "code",
   "execution_count": 7,
   "metadata": {},
   "outputs": [
    {
     "name": "stderr",
     "output_type": "stream",
     "text": [
      "100%|██████████| 8873/8873 [01:23<00:00, 106.46it/s]\n",
      "100%|██████████| 8873/8873 [01:23<00:00, 105.87it/s]\n",
      "100%|██████████| 8873/8873 [01:23<00:00, 105.85it/s]\n"
     ]
    }
   ],
   "source": [
    "model1_oof[\"score\"] = model1_oof.progress_apply(compute_each_score, axis=1)\n",
    "model2_oof[\"score\"] = model2_oof.progress_apply(compute_each_score, axis=1)\n",
    "model3_oof[\"score\"] = model3_oof.progress_apply(compute_each_score, axis=1)\n",
    "\n",
    "model1_dir = os.path.dirname(model1_oof_path)\n",
    "model1_oof.to_csv(os.path.join(model1_dir, \"oof_with_score.csv\"), index=False)\n",
    "\n",
    "model2_dir = os.path.dirname(model2_oof_path)\n",
    "model2_oof.to_csv(os.path.join(model2_dir, \"oof_with_score.csv\"), index=False)\n",
    "\n",
    "model3_dir = os.path.dirname(model3_oof_path)\n",
    "model3_oof.to_csv(os.path.join(model3_dir, \"oof_with_score.csv\"), index=False)"
   ]
  },
  {
   "cell_type": "markdown",
   "metadata": {},
   "source": [
    "# model1 resnet34d oof check"
   ]
  },
  {
   "cell_type": "code",
   "execution_count": 9,
   "metadata": {},
   "outputs": [
    {
     "name": "stdout",
     "output_type": "stream",
     "text": [
      "0.8783644845160807\n",
      "===\n",
      "fold0: 0.8389188659224357\n"
     ]
    },
    {
     "data": {
      "text/plain": [
       "expert_consensus\n",
       "gpd_vote        0.502438\n",
       "grda_vote       0.653067\n",
       "lpd_vote        0.779315\n",
       "lrda_vote       0.906065\n",
       "other_vote      0.893501\n",
       "seizure_vote    0.999929\n",
       "Name: score, dtype: float64"
      ]
     },
     "metadata": {},
     "output_type": "display_data"
    },
    {
     "name": "stdout",
     "output_type": "stream",
     "text": [
      "===\n",
      "fold1: 0.9271046712356483\n"
     ]
    },
    {
     "data": {
      "text/plain": [
       "expert_consensus\n",
       "gpd_vote        0.415668\n",
       "grda_vote       0.939705\n",
       "lpd_vote        0.569378\n",
       "lrda_vote       0.640666\n",
       "other_vote      1.064702\n",
       "seizure_vote    1.147250\n",
       "Name: score, dtype: float64"
      ]
     },
     "metadata": {},
     "output_type": "display_data"
    },
    {
     "name": "stdout",
     "output_type": "stream",
     "text": [
      "===\n",
      "fold2: 0.8656428244225776\n"
     ]
    },
    {
     "data": {
      "text/plain": [
       "expert_consensus\n",
       "gpd_vote        0.532319\n",
       "grda_vote       1.065567\n",
       "lpd_vote        0.657901\n",
       "lrda_vote       0.730884\n",
       "other_vote      0.877023\n",
       "seizure_vote    1.010856\n",
       "Name: score, dtype: float64"
      ]
     },
     "metadata": {},
     "output_type": "display_data"
    },
    {
     "name": "stdout",
     "output_type": "stream",
     "text": [
      "===\n",
      "fold3: 0.9148641117054068\n"
     ]
    },
    {
     "data": {
      "text/plain": [
       "expert_consensus\n",
       "gpd_vote        0.408033\n",
       "grda_vote       0.645622\n",
       "lpd_vote        0.954910\n",
       "lrda_vote       0.670622\n",
       "other_vote      0.839314\n",
       "seizure_vote    1.490212\n",
       "Name: score, dtype: float64"
      ]
     },
     "metadata": {},
     "output_type": "display_data"
    },
    {
     "name": "stdout",
     "output_type": "stream",
     "text": [
      "===\n",
      "fold4: 0.8456555924099048\n"
     ]
    },
    {
     "data": {
      "text/plain": [
       "expert_consensus\n",
       "gpd_vote        0.451707\n",
       "grda_vote       0.650409\n",
       "lpd_vote        0.619544\n",
       "lrda_vote       0.666982\n",
       "other_vote      0.868134\n",
       "seizure_vote    1.273352\n",
       "Name: score, dtype: float64"
      ]
     },
     "metadata": {},
     "output_type": "display_data"
    }
   ],
   "source": [
    "oof = model1_oof.copy()\n",
    "\n",
    "score_mean = oof[\"score\"].mean()\n",
    "print(score_mean)\n",
    "for fold in range(5):\n",
    "    print(\"===\")\n",
    "    valid_ids_path = f\"/kaggle/input/valid_spec_ids_fold{fold}.yaml\"\n",
    "    with open(valid_ids_path, 'r') as file:\n",
    "        valid_ids = yaml.load(file, Loader=yaml.FullLoader)\n",
    "    valid_oof = oof[oof.spectrogram_id.isin(valid_ids)]\n",
    "    print(f\"fold{fold}:\", valid_oof[\"score\"].mean())\n",
    "    display(valid_oof.groupby(\"expert_consensus\")[\"score\"].mean())\n",
    "    "
   ]
  },
  {
   "cell_type": "markdown",
   "metadata": {},
   "source": [
    "# model2 tf_efficientnet_b0_ns oof check"
   ]
  },
  {
   "cell_type": "code",
   "execution_count": 10,
   "metadata": {},
   "outputs": [
    {
     "name": "stdout",
     "output_type": "stream",
     "text": [
      "0.8783644845160807\n",
      "===\n",
      "fold0: 0.8389188659224357\n"
     ]
    },
    {
     "data": {
      "text/plain": [
       "expert_consensus\n",
       "gpd_vote        0.502438\n",
       "grda_vote       0.653067\n",
       "lpd_vote        0.779315\n",
       "lrda_vote       0.906065\n",
       "other_vote      0.893501\n",
       "seizure_vote    0.999929\n",
       "Name: score, dtype: float64"
      ]
     },
     "metadata": {},
     "output_type": "display_data"
    },
    {
     "name": "stdout",
     "output_type": "stream",
     "text": [
      "===\n",
      "fold1: 0.9271046712356483\n"
     ]
    },
    {
     "data": {
      "text/plain": [
       "expert_consensus\n",
       "gpd_vote        0.415668\n",
       "grda_vote       0.939705\n",
       "lpd_vote        0.569378\n",
       "lrda_vote       0.640666\n",
       "other_vote      1.064702\n",
       "seizure_vote    1.147250\n",
       "Name: score, dtype: float64"
      ]
     },
     "metadata": {},
     "output_type": "display_data"
    },
    {
     "name": "stdout",
     "output_type": "stream",
     "text": [
      "===\n",
      "fold2: 0.8656428244225776\n"
     ]
    },
    {
     "data": {
      "text/plain": [
       "expert_consensus\n",
       "gpd_vote        0.532319\n",
       "grda_vote       1.065567\n",
       "lpd_vote        0.657901\n",
       "lrda_vote       0.730884\n",
       "other_vote      0.877023\n",
       "seizure_vote    1.010856\n",
       "Name: score, dtype: float64"
      ]
     },
     "metadata": {},
     "output_type": "display_data"
    },
    {
     "name": "stdout",
     "output_type": "stream",
     "text": [
      "===\n",
      "fold3: 0.9148641117054068\n"
     ]
    },
    {
     "data": {
      "text/plain": [
       "expert_consensus\n",
       "gpd_vote        0.408033\n",
       "grda_vote       0.645622\n",
       "lpd_vote        0.954910\n",
       "lrda_vote       0.670622\n",
       "other_vote      0.839314\n",
       "seizure_vote    1.490212\n",
       "Name: score, dtype: float64"
      ]
     },
     "metadata": {},
     "output_type": "display_data"
    },
    {
     "name": "stdout",
     "output_type": "stream",
     "text": [
      "===\n",
      "fold4: 0.8456555924099048\n"
     ]
    },
    {
     "data": {
      "text/plain": [
       "expert_consensus\n",
       "gpd_vote        0.451707\n",
       "grda_vote       0.650409\n",
       "lpd_vote        0.619544\n",
       "lrda_vote       0.666982\n",
       "other_vote      0.868134\n",
       "seizure_vote    1.273352\n",
       "Name: score, dtype: float64"
      ]
     },
     "metadata": {},
     "output_type": "display_data"
    }
   ],
   "source": [
    "poof = model2_oof.copy()\n",
    "\n",
    "score_mean = oof[\"score\"].mean()\n",
    "print(score_mean)\n",
    "for fold in range(5):\n",
    "    print(\"===\")\n",
    "    valid_ids_path = f\"/kaggle/input/valid_spec_ids_fold{fold}.yaml\"\n",
    "    with open(valid_ids_path, 'r') as file:\n",
    "        valid_ids = yaml.load(file, Loader=yaml.FullLoader)\n",
    "    valid_oof = oof[oof.spectrogram_id.isin(valid_ids)]\n",
    "    print(f\"fold{fold}:\", valid_oof[\"score\"].mean())\n",
    "    display(valid_oof.groupby(\"expert_consensus\")[\"score\"].mean())"
   ]
  },
  {
   "cell_type": "markdown",
   "metadata": {},
   "source": [
    "# model3 tf_efficientnet_b1_ns oof check"
   ]
  },
  {
   "cell_type": "code",
   "execution_count": 11,
   "metadata": {},
   "outputs": [
    {
     "name": "stdout",
     "output_type": "stream",
     "text": [
      "17.596495920892515\n",
      "===\n",
      "fold0: 17.818742787260696\n"
     ]
    },
    {
     "data": {
      "text/plain": [
       "expert_consensus\n",
       "gpd_vote         5.964445\n",
       "grda_vote        3.107936\n",
       "lpd_vote         5.788968\n",
       "lrda_vote       12.573892\n",
       "other_vote      28.547948\n",
       "seizure_vote    17.817416\n",
       "Name: score, dtype: float64"
      ]
     },
     "metadata": {},
     "output_type": "display_data"
    },
    {
     "name": "stdout",
     "output_type": "stream",
     "text": [
      "===\n",
      "fold1: 17.87935934555252\n"
     ]
    },
    {
     "data": {
      "text/plain": [
       "expert_consensus\n",
       "gpd_vote         4.843603\n",
       "grda_vote        3.901545\n",
       "lpd_vote         4.994613\n",
       "lrda_vote       13.306241\n",
       "other_vote      28.885665\n",
       "seizure_vote    18.738896\n",
       "Name: score, dtype: float64"
      ]
     },
     "metadata": {},
     "output_type": "display_data"
    },
    {
     "name": "stdout",
     "output_type": "stream",
     "text": [
      "===\n",
      "fold2: 17.50673401373947\n"
     ]
    },
    {
     "data": {
      "text/plain": [
       "expert_consensus\n",
       "gpd_vote         6.147580\n",
       "grda_vote        2.973813\n",
       "lpd_vote         5.178141\n",
       "lrda_vote       12.860388\n",
       "other_vote      27.894078\n",
       "seizure_vote    18.538254\n",
       "Name: score, dtype: float64"
      ]
     },
     "metadata": {},
     "output_type": "display_data"
    },
    {
     "name": "stdout",
     "output_type": "stream",
     "text": [
      "===\n",
      "fold3: 17.71081056905641\n"
     ]
    },
    {
     "data": {
      "text/plain": [
       "expert_consensus\n",
       "gpd_vote         4.841262\n",
       "grda_vote        3.188274\n",
       "lpd_vote         6.750874\n",
       "lrda_vote       13.023358\n",
       "other_vote      28.553765\n",
       "seizure_vote    18.029043\n",
       "Name: score, dtype: float64"
      ]
     },
     "metadata": {},
     "output_type": "display_data"
    },
    {
     "name": "stdout",
     "output_type": "stream",
     "text": [
      "===\n",
      "fold4: 17.092968034835817\n"
     ]
    },
    {
     "data": {
      "text/plain": [
       "expert_consensus\n",
       "gpd_vote         5.407816\n",
       "grda_vote        3.780723\n",
       "lpd_vote         3.931087\n",
       "lrda_vote       14.102914\n",
       "other_vote      29.046603\n",
       "seizure_vote    17.945991\n",
       "Name: score, dtype: float64"
      ]
     },
     "metadata": {},
     "output_type": "display_data"
    }
   ],
   "source": [
    "oof = model3_oof.copy()\n",
    "\n",
    "score_mean = oof[\"score\"].mean()\n",
    "print(score_mean)\n",
    "for fold in range(5):\n",
    "    print(\"===\")\n",
    "    valid_ids_path = f\"/kaggle/input/valid_spec_ids_fold{fold}.yaml\"\n",
    "    with open(valid_ids_path, 'r') as file:\n",
    "        valid_ids = yaml.load(file, Loader=yaml.FullLoader)\n",
    "    valid_oof = oof[oof.spectrogram_id.isin(valid_ids)]\n",
    "    print(f\"fold{fold}:\", valid_oof[\"score\"].mean())\n",
    "    display(valid_oof.groupby(\"expert_consensus\")[\"score\"].mean())"
   ]
  },
  {
   "cell_type": "code",
   "execution_count": null,
   "metadata": {},
   "outputs": [],
   "source": []
  }
 ],
 "metadata": {
  "kernelspec": {
   "display_name": "base",
   "language": "python",
   "name": "python3"
  },
  "language_info": {
   "codemirror_mode": {
    "name": "ipython",
    "version": 3
   },
   "file_extension": ".py",
   "mimetype": "text/x-python",
   "name": "python",
   "nbconvert_exporter": "python",
   "pygments_lexer": "ipython3",
   "version": "3.10.12"
  }
 },
 "nbformat": 4,
 "nbformat_minor": 2
}
