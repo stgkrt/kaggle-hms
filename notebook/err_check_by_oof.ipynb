{
 "cells": [
  {
   "cell_type": "code",
   "execution_count": 4,
   "metadata": {},
   "outputs": [],
   "source": [
    "import os\n",
    "import pandas as pd\n",
    "\n",
    "from tqdm import tqdm\n",
    "\n",
    "#セットアップ\n",
    "tqdm.pandas()\n",
    "\n",
    "import sys\n",
    "sys.path.append(\"/kaggle/src\")\n",
    "from kaggle_metrics.kaggle_kl_div import compute_each_score"
   ]
  },
  {
   "cell_type": "code",
   "execution_count": 5,
   "metadata": {},
   "outputs": [],
   "source": [
    "oof_path = \"/kaggle/working/exp000_notrepeat_inputs/tf_efficientnet_b0_ns_oof_df_exp000_notrepeat_inputs_stage1.csv\""
   ]
  },
  {
   "cell_type": "code",
   "execution_count": 6,
   "metadata": {},
   "outputs": [],
   "source": [
    "oof_df = pd.read_csv(oof_path)"
   ]
  },
  {
   "cell_type": "code",
   "execution_count": 7,
   "metadata": {},
   "outputs": [
    {
     "data": {
      "text/html": [
       "<div>\n",
       "<style scoped>\n",
       "    .dataframe tbody tr th:only-of-type {\n",
       "        vertical-align: middle;\n",
       "    }\n",
       "\n",
       "    .dataframe tbody tr th {\n",
       "        vertical-align: top;\n",
       "    }\n",
       "\n",
       "    .dataframe thead th {\n",
       "        text-align: right;\n",
       "    }\n",
       "</style>\n",
       "<table border=\"1\" class=\"dataframe\">\n",
       "  <thead>\n",
       "    <tr style=\"text-align: right;\">\n",
       "      <th></th>\n",
       "      <th>eeg_id</th>\n",
       "      <th>eeg_sub_id</th>\n",
       "      <th>eeg_label_offset_seconds</th>\n",
       "      <th>spectrogram_id</th>\n",
       "      <th>spectrogram_sub_id</th>\n",
       "      <th>spectrogram_label_offset_seconds</th>\n",
       "      <th>label_id</th>\n",
       "      <th>patient_id</th>\n",
       "      <th>expert_consensus</th>\n",
       "      <th>seizure_vote</th>\n",
       "      <th>...</th>\n",
       "      <th>other_vote</th>\n",
       "      <th>total_evaluators</th>\n",
       "      <th>target</th>\n",
       "      <th>fold</th>\n",
       "      <th>pred_seizure_vote</th>\n",
       "      <th>pred_lpd_vote</th>\n",
       "      <th>pred_gpd_vote</th>\n",
       "      <th>pred_lrda_vote</th>\n",
       "      <th>pred_grda_vote</th>\n",
       "      <th>pred_other_vote</th>\n",
       "    </tr>\n",
       "  </thead>\n",
       "  <tbody>\n",
       "    <tr>\n",
       "      <th>0</th>\n",
       "      <td>1628180742</td>\n",
       "      <td>0</td>\n",
       "      <td>0.0</td>\n",
       "      <td>353733</td>\n",
       "      <td>0</td>\n",
       "      <td>0.0</td>\n",
       "      <td>127492639</td>\n",
       "      <td>42516</td>\n",
       "      <td>Seizure</td>\n",
       "      <td>1.0</td>\n",
       "      <td>...</td>\n",
       "      <td>0.000000</td>\n",
       "      <td>3</td>\n",
       "      <td>Seizure</td>\n",
       "      <td>0</td>\n",
       "      <td>0.711850</td>\n",
       "      <td>0.059821</td>\n",
       "      <td>0.031907</td>\n",
       "      <td>0.030819</td>\n",
       "      <td>0.019863</td>\n",
       "      <td>0.145740</td>\n",
       "    </tr>\n",
       "    <tr>\n",
       "      <th>1</th>\n",
       "      <td>8071080</td>\n",
       "      <td>0</td>\n",
       "      <td>0.0</td>\n",
       "      <td>2593634</td>\n",
       "      <td>0</td>\n",
       "      <td>0.0</td>\n",
       "      <td>92643023</td>\n",
       "      <td>2944</td>\n",
       "      <td>GRDA</td>\n",
       "      <td>0.0</td>\n",
       "      <td>...</td>\n",
       "      <td>0.000000</td>\n",
       "      <td>3</td>\n",
       "      <td>GRDA</td>\n",
       "      <td>0</td>\n",
       "      <td>0.008218</td>\n",
       "      <td>0.037198</td>\n",
       "      <td>0.074058</td>\n",
       "      <td>0.054805</td>\n",
       "      <td>0.541758</td>\n",
       "      <td>0.283964</td>\n",
       "    </tr>\n",
       "    <tr>\n",
       "      <th>2</th>\n",
       "      <td>175641702</td>\n",
       "      <td>0</td>\n",
       "      <td>0.0</td>\n",
       "      <td>3250170</td>\n",
       "      <td>0</td>\n",
       "      <td>0.0</td>\n",
       "      <td>2564153803</td>\n",
       "      <td>33127</td>\n",
       "      <td>LRDA</td>\n",
       "      <td>0.0</td>\n",
       "      <td>...</td>\n",
       "      <td>0.000000</td>\n",
       "      <td>3</td>\n",
       "      <td>LRDA</td>\n",
       "      <td>0</td>\n",
       "      <td>0.258192</td>\n",
       "      <td>0.184464</td>\n",
       "      <td>0.087159</td>\n",
       "      <td>0.113383</td>\n",
       "      <td>0.082747</td>\n",
       "      <td>0.274054</td>\n",
       "    </tr>\n",
       "    <tr>\n",
       "      <th>3</th>\n",
       "      <td>893864755</td>\n",
       "      <td>0</td>\n",
       "      <td>0.0</td>\n",
       "      <td>4367732</td>\n",
       "      <td>0</td>\n",
       "      <td>0.0</td>\n",
       "      <td>1554550678</td>\n",
       "      <td>2338</td>\n",
       "      <td>Other</td>\n",
       "      <td>0.0</td>\n",
       "      <td>...</td>\n",
       "      <td>0.769231</td>\n",
       "      <td>13</td>\n",
       "      <td>Other</td>\n",
       "      <td>0</td>\n",
       "      <td>0.028503</td>\n",
       "      <td>0.032555</td>\n",
       "      <td>0.044432</td>\n",
       "      <td>0.127075</td>\n",
       "      <td>0.377061</td>\n",
       "      <td>0.390374</td>\n",
       "    </tr>\n",
       "    <tr>\n",
       "      <th>4</th>\n",
       "      <td>2184415503</td>\n",
       "      <td>0</td>\n",
       "      <td>0.0</td>\n",
       "      <td>4651057</td>\n",
       "      <td>0</td>\n",
       "      <td>0.0</td>\n",
       "      <td>164296540</td>\n",
       "      <td>47284</td>\n",
       "      <td>Other</td>\n",
       "      <td>0.0</td>\n",
       "      <td>...</td>\n",
       "      <td>1.000000</td>\n",
       "      <td>1</td>\n",
       "      <td>Other</td>\n",
       "      <td>0</td>\n",
       "      <td>0.030377</td>\n",
       "      <td>0.082431</td>\n",
       "      <td>0.343688</td>\n",
       "      <td>0.005772</td>\n",
       "      <td>0.008369</td>\n",
       "      <td>0.529363</td>\n",
       "    </tr>\n",
       "    <tr>\n",
       "      <th>...</th>\n",
       "      <td>...</td>\n",
       "      <td>...</td>\n",
       "      <td>...</td>\n",
       "      <td>...</td>\n",
       "      <td>...</td>\n",
       "      <td>...</td>\n",
       "      <td>...</td>\n",
       "      <td>...</td>\n",
       "      <td>...</td>\n",
       "      <td>...</td>\n",
       "      <td>...</td>\n",
       "      <td>...</td>\n",
       "      <td>...</td>\n",
       "      <td>...</td>\n",
       "      <td>...</td>\n",
       "      <td>...</td>\n",
       "      <td>...</td>\n",
       "      <td>...</td>\n",
       "      <td>...</td>\n",
       "      <td>...</td>\n",
       "      <td>...</td>\n",
       "    </tr>\n",
       "    <tr>\n",
       "      <th>20178</th>\n",
       "      <td>918950919</td>\n",
       "      <td>0</td>\n",
       "      <td>0.0</td>\n",
       "      <td>2145646585</td>\n",
       "      <td>0</td>\n",
       "      <td>0.0</td>\n",
       "      <td>3266555556</td>\n",
       "      <td>22147</td>\n",
       "      <td>Other</td>\n",
       "      <td>0.0</td>\n",
       "      <td>...</td>\n",
       "      <td>1.000000</td>\n",
       "      <td>3</td>\n",
       "      <td>Other</td>\n",
       "      <td>4</td>\n",
       "      <td>0.057157</td>\n",
       "      <td>0.013913</td>\n",
       "      <td>0.006017</td>\n",
       "      <td>0.049497</td>\n",
       "      <td>0.120818</td>\n",
       "      <td>0.752598</td>\n",
       "    </tr>\n",
       "    <tr>\n",
       "      <th>20179</th>\n",
       "      <td>897183978</td>\n",
       "      <td>0</td>\n",
       "      <td>0.0</td>\n",
       "      <td>2145731520</td>\n",
       "      <td>0</td>\n",
       "      <td>0.0</td>\n",
       "      <td>1724767128</td>\n",
       "      <td>25579</td>\n",
       "      <td>Other</td>\n",
       "      <td>0.0</td>\n",
       "      <td>...</td>\n",
       "      <td>0.666667</td>\n",
       "      <td>3</td>\n",
       "      <td>Other</td>\n",
       "      <td>4</td>\n",
       "      <td>0.106545</td>\n",
       "      <td>0.088707</td>\n",
       "      <td>0.011961</td>\n",
       "      <td>0.169083</td>\n",
       "      <td>0.066964</td>\n",
       "      <td>0.556740</td>\n",
       "    </tr>\n",
       "    <tr>\n",
       "      <th>20180</th>\n",
       "      <td>2982417621</td>\n",
       "      <td>0</td>\n",
       "      <td>0.0</td>\n",
       "      <td>2145983945</td>\n",
       "      <td>0</td>\n",
       "      <td>0.0</td>\n",
       "      <td>3989519932</td>\n",
       "      <td>7118</td>\n",
       "      <td>LRDA</td>\n",
       "      <td>0.0</td>\n",
       "      <td>...</td>\n",
       "      <td>0.266667</td>\n",
       "      <td>15</td>\n",
       "      <td>LRDA</td>\n",
       "      <td>4</td>\n",
       "      <td>0.081017</td>\n",
       "      <td>0.028448</td>\n",
       "      <td>0.009771</td>\n",
       "      <td>0.117948</td>\n",
       "      <td>0.395312</td>\n",
       "      <td>0.367504</td>\n",
       "    </tr>\n",
       "    <tr>\n",
       "      <th>20181</th>\n",
       "      <td>1306668185</td>\n",
       "      <td>0</td>\n",
       "      <td>0.0</td>\n",
       "      <td>2147312808</td>\n",
       "      <td>0</td>\n",
       "      <td>0.0</td>\n",
       "      <td>1216355904</td>\n",
       "      <td>57480</td>\n",
       "      <td>LPD</td>\n",
       "      <td>0.0</td>\n",
       "      <td>...</td>\n",
       "      <td>0.000000</td>\n",
       "      <td>3</td>\n",
       "      <td>LPD</td>\n",
       "      <td>4</td>\n",
       "      <td>0.101816</td>\n",
       "      <td>0.119881</td>\n",
       "      <td>0.020351</td>\n",
       "      <td>0.162056</td>\n",
       "      <td>0.141520</td>\n",
       "      <td>0.454377</td>\n",
       "    </tr>\n",
       "    <tr>\n",
       "      <th>20182</th>\n",
       "      <td>351917269</td>\n",
       "      <td>0</td>\n",
       "      <td>0.0</td>\n",
       "      <td>2147388374</td>\n",
       "      <td>0</td>\n",
       "      <td>0.0</td>\n",
       "      <td>429140316</td>\n",
       "      <td>10351</td>\n",
       "      <td>LRDA</td>\n",
       "      <td>0.0</td>\n",
       "      <td>...</td>\n",
       "      <td>0.000000</td>\n",
       "      <td>3</td>\n",
       "      <td>LRDA</td>\n",
       "      <td>4</td>\n",
       "      <td>0.013035</td>\n",
       "      <td>0.046611</td>\n",
       "      <td>0.014028</td>\n",
       "      <td>0.516635</td>\n",
       "      <td>0.214490</td>\n",
       "      <td>0.195201</td>\n",
       "    </tr>\n",
       "  </tbody>\n",
       "</table>\n",
       "<p>20183 rows × 24 columns</p>\n",
       "</div>"
      ],
      "text/plain": [
       "           eeg_id  eeg_sub_id  eeg_label_offset_seconds  spectrogram_id  \\\n",
       "0      1628180742           0                       0.0          353733   \n",
       "1         8071080           0                       0.0         2593634   \n",
       "2       175641702           0                       0.0         3250170   \n",
       "3       893864755           0                       0.0         4367732   \n",
       "4      2184415503           0                       0.0         4651057   \n",
       "...           ...         ...                       ...             ...   \n",
       "20178   918950919           0                       0.0      2145646585   \n",
       "20179   897183978           0                       0.0      2145731520   \n",
       "20180  2982417621           0                       0.0      2145983945   \n",
       "20181  1306668185           0                       0.0      2147312808   \n",
       "20182   351917269           0                       0.0      2147388374   \n",
       "\n",
       "       spectrogram_sub_id  spectrogram_label_offset_seconds    label_id  \\\n",
       "0                       0                               0.0   127492639   \n",
       "1                       0                               0.0    92643023   \n",
       "2                       0                               0.0  2564153803   \n",
       "3                       0                               0.0  1554550678   \n",
       "4                       0                               0.0   164296540   \n",
       "...                   ...                               ...         ...   \n",
       "20178                   0                               0.0  3266555556   \n",
       "20179                   0                               0.0  1724767128   \n",
       "20180                   0                               0.0  3989519932   \n",
       "20181                   0                               0.0  1216355904   \n",
       "20182                   0                               0.0   429140316   \n",
       "\n",
       "       patient_id expert_consensus  seizure_vote  ...  other_vote  \\\n",
       "0           42516          Seizure           1.0  ...    0.000000   \n",
       "1            2944             GRDA           0.0  ...    0.000000   \n",
       "2           33127             LRDA           0.0  ...    0.000000   \n",
       "3            2338            Other           0.0  ...    0.769231   \n",
       "4           47284            Other           0.0  ...    1.000000   \n",
       "...           ...              ...           ...  ...         ...   \n",
       "20178       22147            Other           0.0  ...    1.000000   \n",
       "20179       25579            Other           0.0  ...    0.666667   \n",
       "20180        7118             LRDA           0.0  ...    0.266667   \n",
       "20181       57480              LPD           0.0  ...    0.000000   \n",
       "20182       10351             LRDA           0.0  ...    0.000000   \n",
       "\n",
       "       total_evaluators   target  fold  pred_seizure_vote  pred_lpd_vote  \\\n",
       "0                     3  Seizure     0           0.711850       0.059821   \n",
       "1                     3     GRDA     0           0.008218       0.037198   \n",
       "2                     3     LRDA     0           0.258192       0.184464   \n",
       "3                    13    Other     0           0.028503       0.032555   \n",
       "4                     1    Other     0           0.030377       0.082431   \n",
       "...                 ...      ...   ...                ...            ...   \n",
       "20178                 3    Other     4           0.057157       0.013913   \n",
       "20179                 3    Other     4           0.106545       0.088707   \n",
       "20180                15     LRDA     4           0.081017       0.028448   \n",
       "20181                 3      LPD     4           0.101816       0.119881   \n",
       "20182                 3     LRDA     4           0.013035       0.046611   \n",
       "\n",
       "      pred_gpd_vote  pred_lrda_vote  pred_grda_vote  pred_other_vote  \n",
       "0          0.031907        0.030819        0.019863         0.145740  \n",
       "1          0.074058        0.054805        0.541758         0.283964  \n",
       "2          0.087159        0.113383        0.082747         0.274054  \n",
       "3          0.044432        0.127075        0.377061         0.390374  \n",
       "4          0.343688        0.005772        0.008369         0.529363  \n",
       "...             ...             ...             ...              ...  \n",
       "20178      0.006017        0.049497        0.120818         0.752598  \n",
       "20179      0.011961        0.169083        0.066964         0.556740  \n",
       "20180      0.009771        0.117948        0.395312         0.367504  \n",
       "20181      0.020351        0.162056        0.141520         0.454377  \n",
       "20182      0.014028        0.516635        0.214490         0.195201  \n",
       "\n",
       "[20183 rows x 24 columns]"
      ]
     },
     "execution_count": 7,
     "metadata": {},
     "output_type": "execute_result"
    }
   ],
   "source": [
    "oof_df"
   ]
  },
  {
   "cell_type": "code",
   "execution_count": 8,
   "metadata": {},
   "outputs": [
    {
     "name": "stderr",
     "output_type": "stream",
     "text": [
      "100%|██████████| 20183/20183 [03:12<00:00, 105.07it/s]\n"
     ]
    }
   ],
   "source": [
    "oof_df[\"valid_score\"] = oof_df.progress_apply(compute_each_score, axis=1)"
   ]
  },
  {
   "cell_type": "code",
   "execution_count": 9,
   "metadata": {},
   "outputs": [],
   "source": [
    "oof_path = \"/kaggle/working/exp000_notrepeat_inputs/oof_with_valid_score.csv\"\n",
    "oof_df.to_csv(oof_path, index=False)"
   ]
  },
  {
   "cell_type": "code",
   "execution_count": 11,
   "metadata": {},
   "outputs": [
    {
     "data": {
      "text/plain": [
       "Index(['eeg_id', 'eeg_sub_id', 'eeg_label_offset_seconds', 'spectrogram_id',\n",
       "       'spectrogram_sub_id', 'spectrogram_label_offset_seconds', 'label_id',\n",
       "       'patient_id', 'expert_consensus', 'seizure_vote', 'lpd_vote',\n",
       "       'gpd_vote', 'lrda_vote', 'grda_vote', 'other_vote', 'total_evaluators',\n",
       "       'target', 'fold', 'pred_seizure_vote', 'pred_lpd_vote', 'pred_gpd_vote',\n",
       "       'pred_lrda_vote', 'pred_grda_vote', 'pred_other_vote', 'valid_score'],\n",
       "      dtype='object')"
      ]
     },
     "execution_count": 11,
     "metadata": {},
     "output_type": "execute_result"
    }
   ],
   "source": [
    "oof_df.columns"
   ]
  },
  {
   "cell_type": "code",
   "execution_count": 13,
   "metadata": {},
   "outputs": [
    {
     "name": "stdout",
     "output_type": "stream",
     "text": [
      " === fold 0 ===\n",
      "fold0 score: 0.6598619670179203\n"
     ]
    },
    {
     "data": {
      "text/plain": [
       "expert_consensus\n",
       "Other      1462\n",
       "Seizure     789\n",
       "LPD         744\n",
       "GRDA        427\n",
       "LRDA        343\n",
       "GPD         272\n",
       "Name: count, dtype: int64"
      ]
     },
     "metadata": {},
     "output_type": "display_data"
    },
    {
     "name": "stdout",
     "output_type": "stream",
     "text": [
      " === fold 1 ===\n",
      "fold1 score: 0.6535199070182584\n"
     ]
    },
    {
     "data": {
      "text/plain": [
       "expert_consensus\n",
       "Other      1555\n",
       "Seizure     951\n",
       "LPD         658\n",
       "GRDA        357\n",
       "GPD         277\n",
       "LRDA        239\n",
       "Name: count, dtype: int64"
      ]
     },
     "metadata": {},
     "output_type": "display_data"
    },
    {
     "name": "stdout",
     "output_type": "stream",
     "text": [
      " === fold 2 ===\n",
      "fold2 score: 0.6300183074524038\n"
     ]
    },
    {
     "data": {
      "text/plain": [
       "expert_consensus\n",
       "Other      1561\n",
       "Seizure     915\n",
       "LPD         654\n",
       "GPD         385\n",
       "GRDA        340\n",
       "LRDA        182\n",
       "Name: count, dtype: int64"
      ]
     },
     "metadata": {},
     "output_type": "display_data"
    },
    {
     "name": "stdout",
     "output_type": "stream",
     "text": [
      " === fold 3 ===\n",
      "fold3 score: 0.7112945256947493\n"
     ]
    },
    {
     "data": {
      "text/plain": [
       "expert_consensus\n",
       "Other      1474\n",
       "Seizure     693\n",
       "LPD         671\n",
       "GPD         542\n",
       "GRDA        419\n",
       "LRDA        237\n",
       "Name: count, dtype: int64"
      ]
     },
     "metadata": {},
     "output_type": "display_data"
    },
    {
     "name": "stdout",
     "output_type": "stream",
     "text": [
      " === fold 4 ===\n",
      "fold4 score: 0.6480249998293086\n"
     ]
    },
    {
     "data": {
      "text/plain": [
       "expert_consensus\n",
       "Other      1665\n",
       "Seizure     625\n",
       "LPD         623\n",
       "GPD         605\n",
       "GRDA        387\n",
       "LRDA        131\n",
       "Name: count, dtype: int64"
      ]
     },
     "metadata": {},
     "output_type": "display_data"
    }
   ],
   "source": [
    "for fold in range(5):\n",
    "    print(f\" === fold {fold} ===\")\n",
    "    fold_oof_df = oof_df[oof_df[\"fold\"] == fold]\n",
    "    fold_score = fold_oof_df[\"valid_score\"].mean()\n",
    "    print(f\"fold{fold} score: {fold_score}\")\n",
    "    display(fold_oof_df[\"expert_consensus\"].value_counts())"
   ]
  },
  {
   "cell_type": "code",
   "execution_count": 14,
   "metadata": {},
   "outputs": [
    {
     "name": "stdout",
     "output_type": "stream",
     "text": [
      " === fold 0 ===\n"
     ]
    },
    {
     "data": {
      "text/plain": [
       "expert_consensus\n",
       "GPD        0.654201\n",
       "GRDA       0.806606\n",
       "LPD        0.597986\n",
       "LRDA       1.535939\n",
       "Other      0.441256\n",
       "Seizure    0.664961\n",
       "Name: valid_score, dtype: float64"
      ]
     },
     "metadata": {},
     "output_type": "display_data"
    },
    {
     "name": "stdout",
     "output_type": "stream",
     "text": [
      " === fold 1 ===\n"
     ]
    },
    {
     "data": {
      "text/plain": [
       "expert_consensus\n",
       "GPD        0.656758\n",
       "GRDA       0.881951\n",
       "LPD        0.712362\n",
       "LRDA       1.209079\n",
       "Other      0.454389\n",
       "Seizure    0.712095\n",
       "Name: valid_score, dtype: float64"
      ]
     },
     "metadata": {},
     "output_type": "display_data"
    },
    {
     "name": "stdout",
     "output_type": "stream",
     "text": [
      " === fold 2 ===\n"
     ]
    },
    {
     "data": {
      "text/plain": [
       "expert_consensus\n",
       "GPD        0.578073\n",
       "GRDA       0.841912\n",
       "LPD        0.785732\n",
       "LRDA       1.216351\n",
       "Other      0.430927\n",
       "Seizure    0.684867\n",
       "Name: valid_score, dtype: float64"
      ]
     },
     "metadata": {},
     "output_type": "display_data"
    },
    {
     "name": "stdout",
     "output_type": "stream",
     "text": [
      " === fold 3 ===\n"
     ]
    },
    {
     "data": {
      "text/plain": [
       "expert_consensus\n",
       "GPD        0.787737\n",
       "GRDA       1.175029\n",
       "LPD        0.794439\n",
       "LRDA       1.515199\n",
       "Other      0.390549\n",
       "Seizure    0.697912\n",
       "Name: valid_score, dtype: float64"
      ]
     },
     "metadata": {},
     "output_type": "display_data"
    },
    {
     "name": "stdout",
     "output_type": "stream",
     "text": [
      " === fold 4 ===\n"
     ]
    },
    {
     "data": {
      "text/plain": [
       "expert_consensus\n",
       "GPD        0.506019\n",
       "GRDA       1.349447\n",
       "LPD        0.797707\n",
       "LRDA       1.509279\n",
       "Other      0.432603\n",
       "Seizure    0.595327\n",
       "Name: valid_score, dtype: float64"
      ]
     },
     "metadata": {},
     "output_type": "display_data"
    }
   ],
   "source": [
    "for fold in range(5):\n",
    "    print(f\" === fold {fold} ===\")\n",
    "    fold_oof_df = oof_df[oof_df[\"fold\"] == fold]\n",
    "    display(fold_oof_df.groupby(\"expert_consensus\")[\"valid_score\"].mean())"
   ]
  },
  {
   "cell_type": "code",
   "execution_count": null,
   "metadata": {},
   "outputs": [],
   "source": []
  }
 ],
 "metadata": {
  "kernelspec": {
   "display_name": "base",
   "language": "python",
   "name": "python3"
  },
  "language_info": {
   "codemirror_mode": {
    "name": "ipython",
    "version": 3
   },
   "file_extension": ".py",
   "mimetype": "text/x-python",
   "name": "python",
   "nbconvert_exporter": "python",
   "pygments_lexer": "ipython3",
   "version": "3.10.12"
  }
 },
 "nbformat": 4,
 "nbformat_minor": 2
}
