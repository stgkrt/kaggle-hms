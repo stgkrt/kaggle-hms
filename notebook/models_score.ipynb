{
 "cells": [
  {
   "cell_type": "code",
   "execution_count": 32,
   "metadata": {},
   "outputs": [],
   "source": [
    "import os\n",
    "import pandas as pd\n",
    "import numpy as np\n",
    "import yaml\n",
    "from tqdm import tqdm\n",
    "\n",
    "#セットアップ\n",
    "tqdm.pandas()\n",
    "\n",
    "import sys\n",
    "sys.path.append(\"/kaggle/src\")\n",
    "from kaggle_metrics.kaggle_kl_div import compute_each_score"
   ]
  },
  {
   "cell_type": "code",
   "execution_count": 33,
   "metadata": {},
   "outputs": [],
   "source": [
    "LB_EXPERTNUM_THR_LOW = 5\n",
    "LB_EXPERTNUM_THR_HIGH = 15"
   ]
  },
  {
   "cell_type": "code",
   "execution_count": 34,
   "metadata": {},
   "outputs": [],
   "source": [
    "# model1_oof_path = \"/kaggle/working/exp003_resnet34d/resnet34d_oof_df_exp003_resnet34d_stage1.csv\"\n",
    "# model2_oof_path = \"/kaggle/working/exp004_effnet_b0_ns/tf_efficientnet_b0_ns_oof_df_exp004_effnet_b0_ns_stage1.csv\"\n",
    "# model3_oof_path = \"/kaggle/working/exp004_effnet_b1_ns/tf_efficientnet_b1_ns_oof_df_exp004_effnet_b1_ns_stage1.csv\"\n",
    "\n",
    "\n",
    "# model1_oof = pd.read_csv(model1_oof_path)\n",
    "# model2_oof = pd.read_csv(model2_oof_path)\n",
    "# model3_oof = pd.read_csv(model3_oof_path)"
   ]
  },
  {
   "cell_type": "code",
   "execution_count": 35,
   "metadata": {},
   "outputs": [],
   "source": [
    "# *_voteの最大値の列名を取得\n",
    "# vote_cols = [\"seizure_vote\", \"lpd_vote\", \"gpd_vote\", \"lrda_vote\", \"grda_vote\", \"other_vote\"]\n",
    "# model1_oof[\"expert_consensus\"] = model1_oof[vote_cols].idxmax(axis=1)\n",
    "# model2_oof[\"expert_consensus\"] = model2_oof[vote_cols].idxmax(axis=1)\n",
    "# model3_oof[\"expert_consensus\"] = model3_oof[vote_cols].idxmax(axis=1)"
   ]
  },
  {
   "cell_type": "code",
   "execution_count": 36,
   "metadata": {},
   "outputs": [],
   "source": [
    "# model1_oof[\"score\"] = model1_oof.progress_apply(compute_each_score, axis=1)\n",
    "# model2_oof[\"score\"] = model2_oof.progress_apply(compute_each_score, axis=1)\n",
    "# model3_oof[\"score\"] = model3_oof.progress_apply(compute_each_score, axis=1)\n",
    "\n",
    "# model1_dir = os.path.dirname(model1_oof_path)\n",
    "# model1_oof.to_csv(os.path.join(model1_dir, \"oof_with_score.csv\"), index=False)\n",
    "\n",
    "# model2_dir = os.path.dirname(model2_oof_path)\n",
    "# model2_oof.to_csv(os.path.join(model2_dir, \"oof_with_score.csv\"), index=False)\n",
    "\n",
    "# model3_dir = os.path.dirname(model3_oof_path)\n",
    "# model3_oof.to_csv(os.path.join(model3_dir, \"oof_with_score.csv\"), index=False)"
   ]
  },
  {
   "cell_type": "code",
   "execution_count": 37,
   "metadata": {},
   "outputs": [],
   "source": [
    "model1_oof_path = \"/kaggle/working/exp003_resnet34d/oof_with_score.csv\"\n",
    "model2_oof_path = \"/kaggle/working/exp004_effnet_b0_ns/oof_with_score.csv\"\n",
    "model3_oof_path = \"/kaggle/working/exp004_effnet_b1_ns/oof_with_score.csv\"\n",
    "\n",
    "model1_oof = pd.read_csv(model1_oof_path)\n",
    "model2_oof = pd.read_csv(model2_oof_path)\n",
    "model3_oof = pd.read_csv(model3_oof_path)"
   ]
  },
  {
   "cell_type": "markdown",
   "metadata": {},
   "source": [
    "# model1 resnet34d oof check"
   ]
  },
  {
   "cell_type": "code",
   "execution_count": 38,
   "metadata": {},
   "outputs": [
    {
     "name": "stdout",
     "output_type": "stream",
     "text": [
      "0.7236865891754584\n",
      "0.560542733617145\n",
      "===\n",
      "fold0: 0.7239623430101425\n"
     ]
    },
    {
     "data": {
      "text/plain": [
       "expert_consensus\n",
       "GPD        0.798018\n",
       "GRDA       1.178326\n",
       "LPD        0.700203\n",
       "LRDA       1.474155\n",
       "Other      0.484722\n",
       "Seizure    0.754074\n",
       "Name: score, dtype: float64"
      ]
     },
     "metadata": {},
     "output_type": "display_data"
    },
    {
     "name": "stdout",
     "output_type": "stream",
     "text": [
      "===\n",
      "fold1: 0.7310238118495005\n"
     ]
    },
    {
     "data": {
      "text/plain": [
       "expert_consensus\n",
       "GPD        0.705385\n",
       "GRDA       1.236235\n",
       "LPD        0.970497\n",
       "LRDA       1.567301\n",
       "Other      0.463224\n",
       "Seizure    0.644509\n",
       "Name: score, dtype: float64"
      ]
     },
     "metadata": {},
     "output_type": "display_data"
    },
    {
     "name": "stdout",
     "output_type": "stream",
     "text": [
      "===\n",
      "fold2: 0.7222523097460526\n"
     ]
    },
    {
     "data": {
      "text/plain": [
       "expert_consensus\n",
       "GPD        0.645926\n",
       "GRDA       1.294974\n",
       "LPD        0.863099\n",
       "LRDA       1.517673\n",
       "Other      0.473577\n",
       "Seizure    0.659197\n",
       "Name: score, dtype: float64"
      ]
     },
     "metadata": {},
     "output_type": "display_data"
    },
    {
     "name": "stdout",
     "output_type": "stream",
     "text": [
      "===\n",
      "fold3: 0.6905176821327216\n"
     ]
    },
    {
     "data": {
      "text/plain": [
       "expert_consensus\n",
       "GPD        0.603225\n",
       "GRDA       1.128569\n",
       "LPD        0.747593\n",
       "LRDA       1.507411\n",
       "Other      0.494639\n",
       "Seizure    0.649375\n",
       "Name: score, dtype: float64"
      ]
     },
     "metadata": {},
     "output_type": "display_data"
    },
    {
     "name": "stdout",
     "output_type": "stream",
     "text": [
      "===\n",
      "fold4: 0.7506755669469686\n"
     ]
    },
    {
     "data": {
      "text/plain": [
       "expert_consensus\n",
       "GPD        0.625415\n",
       "GRDA       1.243375\n",
       "LPD        0.966202\n",
       "LRDA       1.649883\n",
       "Other      0.444729\n",
       "Seizure    0.781290\n",
       "Name: score, dtype: float64"
      ]
     },
     "metadata": {},
     "output_type": "display_data"
    }
   ],
   "source": [
    "oof = model1_oof.copy()\n",
    "\n",
    "score_mean = oof[\"score\"].mean()\n",
    "print(score_mean)\n",
    "\n",
    "score_mean = oof[(oof[\"total_evaluators\"] >= LB_EXPERTNUM_THR_LOW) & (oof[\"total_evaluators\"] <= LB_EXPERTNUM_THR_HIGH)][\"score\"].mean()\n",
    "print(score_mean)\n",
    "\n",
    "for fold in range(5):\n",
    "    print(\"===\")\n",
    "    valid_ids_path = f\"/kaggle/input/valid_spec_ids_fold{fold}.yaml\"\n",
    "    with open(valid_ids_path, 'r') as file:\n",
    "        valid_ids = yaml.load(file, Loader=yaml.FullLoader)\n",
    "    valid_oof = oof[oof.spectrogram_id.isin(valid_ids)]\n",
    "    print(f\"fold{fold}:\", valid_oof[\"score\"].mean())\n",
    "    display(valid_oof.groupby(\"expert_consensus\")[\"score\"].mean())\n",
    "    "
   ]
  },
  {
   "cell_type": "code",
   "execution_count": 39,
   "metadata": {},
   "outputs": [
    {
     "name": "stdout",
     "output_type": "stream",
     "text": [
      "===\n",
      "expert num filtered score: 0.525606542084945\n"
     ]
    },
    {
     "data": {
      "text/plain": [
       "expert_consensus\n",
       "GPD        0.632880\n",
       "GRDA       0.633226\n",
       "LPD        0.545567\n",
       "LRDA       0.856860\n",
       "Other      0.438798\n",
       "Seizure    0.340199\n",
       "Name: score, dtype: float64"
      ]
     },
     "metadata": {},
     "output_type": "display_data"
    },
    {
     "name": "stdout",
     "output_type": "stream",
     "text": [
      "===\n",
      "expert num filtered score: 0.580963481039966\n"
     ]
    },
    {
     "data": {
      "text/plain": [
       "expert_consensus\n",
       "GPD        0.523564\n",
       "GRDA       0.818407\n",
       "LPD        0.739267\n",
       "LRDA       0.881348\n",
       "Other      0.481869\n",
       "Seizure    0.340091\n",
       "Name: score, dtype: float64"
      ]
     },
     "metadata": {},
     "output_type": "display_data"
    },
    {
     "name": "stdout",
     "output_type": "stream",
     "text": [
      "===\n",
      "expert num filtered score: 0.5832610115466297\n"
     ]
    },
    {
     "data": {
      "text/plain": [
       "expert_consensus\n",
       "GPD        0.600527\n",
       "GRDA       0.844684\n",
       "LPD        0.737081\n",
       "LRDA       0.882331\n",
       "Other      0.451473\n",
       "Seizure    0.379225\n",
       "Name: score, dtype: float64"
      ]
     },
     "metadata": {},
     "output_type": "display_data"
    },
    {
     "name": "stdout",
     "output_type": "stream",
     "text": [
      "===\n",
      "expert num filtered score: 0.539013229675375\n"
     ]
    },
    {
     "data": {
      "text/plain": [
       "expert_consensus\n",
       "GPD        0.535981\n",
       "GRDA       0.568443\n",
       "LPD        0.665281\n",
       "LRDA       0.905299\n",
       "Other      0.466234\n",
       "Seizure    0.307659\n",
       "Name: score, dtype: float64"
      ]
     },
     "metadata": {},
     "output_type": "display_data"
    },
    {
     "name": "stdout",
     "output_type": "stream",
     "text": [
      "===\n",
      "expert num filtered score: 0.5748477503179183\n"
     ]
    },
    {
     "data": {
      "text/plain": [
       "expert_consensus\n",
       "GPD        0.505599\n",
       "GRDA       0.623703\n",
       "LPD        0.838998\n",
       "LRDA       1.094362\n",
       "Other      0.443237\n",
       "Seizure    0.304395\n",
       "Name: score, dtype: float64"
      ]
     },
     "metadata": {},
     "output_type": "display_data"
    }
   ],
   "source": [
    "for fold in range(5):\n",
    "    print(\"===\")\n",
    "    valid_ids_path = f\"/kaggle/input/valid_spec_ids_fold{fold}.yaml\"\n",
    "    with open(valid_ids_path, 'r') as file:\n",
    "        valid_ids = yaml.load(file, Loader=yaml.FullLoader)\n",
    "    valid_oof = oof[oof.spectrogram_id.isin(valid_ids)]\n",
    "    oof_expertnum_filter = valid_oof[(valid_oof[\"total_evaluators\"] >= LB_EXPERTNUM_THR_LOW) & (valid_oof[\"total_evaluators\"] <= LB_EXPERTNUM_THR_HIGH)]\n",
    "    print(f\"expert num filtered score:\", oof_expertnum_filter[\"score\"].mean())\n",
    "    display(oof_expertnum_filter.groupby(\"expert_consensus\")[\"score\"].mean())"
   ]
  },
  {
   "cell_type": "markdown",
   "metadata": {},
   "source": [
    "# model2 tf_efficientnet_b0_ns oof check"
   ]
  },
  {
   "cell_type": "code",
   "execution_count": 40,
   "metadata": {},
   "outputs": [
    {
     "name": "stdout",
     "output_type": "stream",
     "text": [
      "0.6636904705550419\n",
      "0.5109956273687085\n",
      "===\n",
      "fold0: 0.6644464139864227\n"
     ]
    },
    {
     "data": {
      "text/plain": [
       "expert_consensus\n",
       "GPD        0.671562\n",
       "GRDA       0.968005\n",
       "LPD        0.759470\n",
       "LRDA       1.422047\n",
       "Other      0.473394\n",
       "Seizure    0.617109\n",
       "Name: score, dtype: float64"
      ]
     },
     "metadata": {},
     "output_type": "display_data"
    },
    {
     "name": "stdout",
     "output_type": "stream",
     "text": [
      "===\n",
      "fold1: 0.6633770186149445\n"
     ]
    },
    {
     "data": {
      "text/plain": [
       "expert_consensus\n",
       "GPD        0.576602\n",
       "GRDA       1.039031\n",
       "LPD        0.892560\n",
       "LRDA       1.525827\n",
       "Other      0.393851\n",
       "Seizure    0.663748\n",
       "Name: score, dtype: float64"
      ]
     },
     "metadata": {},
     "output_type": "display_data"
    },
    {
     "name": "stdout",
     "output_type": "stream",
     "text": [
      "===\n",
      "fold2: 0.6315801511083602\n"
     ]
    },
    {
     "data": {
      "text/plain": [
       "expert_consensus\n",
       "GPD        0.564200\n",
       "GRDA       1.107029\n",
       "LPD        0.545800\n",
       "LRDA       1.445642\n",
       "Other      0.408700\n",
       "Seizure    0.710208\n",
       "Name: score, dtype: float64"
      ]
     },
     "metadata": {},
     "output_type": "display_data"
    },
    {
     "name": "stdout",
     "output_type": "stream",
     "text": [
      "===\n",
      "fold3: 0.6483618253748572\n"
     ]
    },
    {
     "data": {
      "text/plain": [
       "expert_consensus\n",
       "GPD        0.546481\n",
       "GRDA       0.951729\n",
       "LPD        0.729361\n",
       "LRDA       1.542374\n",
       "Other      0.446983\n",
       "Seizure    0.655738\n",
       "Name: score, dtype: float64"
      ]
     },
     "metadata": {},
     "output_type": "display_data"
    },
    {
     "name": "stdout",
     "output_type": "stream",
     "text": [
      "===\n",
      "fold4: 0.7108280794250178\n"
     ]
    },
    {
     "data": {
      "text/plain": [
       "expert_consensus\n",
       "GPD        0.605177\n",
       "GRDA       0.894290\n",
       "LPD        0.983733\n",
       "LRDA       1.594362\n",
       "Other      0.449606\n",
       "Seizure    0.768597\n",
       "Name: score, dtype: float64"
      ]
     },
     "metadata": {},
     "output_type": "display_data"
    }
   ],
   "source": [
    "oof = model2_oof.copy()\n",
    "\n",
    "score_mean = oof[\"score\"].mean()\n",
    "print(score_mean)\n",
    "\n",
    "score_mean = oof[(oof[\"total_evaluators\"] >= LB_EXPERTNUM_THR_LOW) & (oof[\"total_evaluators\"] <= LB_EXPERTNUM_THR_HIGH)][\"score\"].mean()\n",
    "print(score_mean)\n",
    "\n",
    "for fold in range(5):\n",
    "    print(\"===\")\n",
    "    valid_ids_path = f\"/kaggle/input/valid_spec_ids_fold{fold}.yaml\"\n",
    "    with open(valid_ids_path, 'r') as file:\n",
    "        valid_ids = yaml.load(file, Loader=yaml.FullLoader)\n",
    "    valid_oof = oof[oof.spectrogram_id.isin(valid_ids)]\n",
    "    print(f\"fold{fold}:\", valid_oof[\"score\"].mean())\n",
    "    display(valid_oof.groupby(\"expert_consensus\")[\"score\"].mean())\n",
    "    \n",
    "    "
   ]
  },
  {
   "cell_type": "code",
   "execution_count": 41,
   "metadata": {},
   "outputs": [
    {
     "name": "stdout",
     "output_type": "stream",
     "text": [
      "===\n"
     ]
    },
    {
     "name": "stdout",
     "output_type": "stream",
     "text": [
      "expert num filtered score: 0.5107008332285236\n"
     ]
    },
    {
     "data": {
      "text/plain": [
       "expert_consensus\n",
       "GPD        0.520263\n",
       "GRDA       0.555360\n",
       "LPD        0.594695\n",
       "LRDA       0.830869\n",
       "Other      0.441280\n",
       "Seizure    0.271221\n",
       "Name: score, dtype: float64"
      ]
     },
     "metadata": {},
     "output_type": "display_data"
    },
    {
     "name": "stdout",
     "output_type": "stream",
     "text": [
      "===\n",
      "expert num filtered score: 0.5034055939859547\n"
     ]
    },
    {
     "data": {
      "text/plain": [
       "expert_consensus\n",
       "GPD        0.423734\n",
       "GRDA       0.679960\n",
       "LPD        0.648193\n",
       "LRDA       0.855497\n",
       "Other      0.408543\n",
       "Seizure    0.340149\n",
       "Name: score, dtype: float64"
      ]
     },
     "metadata": {},
     "output_type": "display_data"
    },
    {
     "name": "stdout",
     "output_type": "stream",
     "text": [
      "===\n",
      "expert num filtered score: 0.4866761653615769\n"
     ]
    },
    {
     "data": {
      "text/plain": [
       "expert_consensus\n",
       "GPD        0.499273\n",
       "GRDA       0.710455\n",
       "LPD        0.507962\n",
       "LRDA       0.796435\n",
       "Other      0.407776\n",
       "Seizure    0.407174\n",
       "Name: score, dtype: float64"
      ]
     },
     "metadata": {},
     "output_type": "display_data"
    },
    {
     "name": "stdout",
     "output_type": "stream",
     "text": [
      "===\n",
      "expert num filtered score: 0.5234296311733042\n"
     ]
    },
    {
     "data": {
      "text/plain": [
       "expert_consensus\n",
       "GPD        0.484152\n",
       "GRDA       0.480756\n",
       "LPD        0.725184\n",
       "LRDA       0.991571\n",
       "Other      0.424815\n",
       "Seizure    0.285929\n",
       "Name: score, dtype: float64"
      ]
     },
     "metadata": {},
     "output_type": "display_data"
    },
    {
     "name": "stdout",
     "output_type": "stream",
     "text": [
      "===\n",
      "expert num filtered score: 0.5304121082609089\n"
     ]
    },
    {
     "data": {
      "text/plain": [
       "expert_consensus\n",
       "GPD        0.465583\n",
       "GRDA       0.411141\n",
       "LPD        0.831345\n",
       "LRDA       1.071207\n",
       "Other      0.409258\n",
       "Seizure    0.247026\n",
       "Name: score, dtype: float64"
      ]
     },
     "metadata": {},
     "output_type": "display_data"
    }
   ],
   "source": [
    "for fold in range(5):\n",
    "    print(\"===\")\n",
    "    valid_ids_path = f\"/kaggle/input/valid_spec_ids_fold{fold}.yaml\"\n",
    "    with open(valid_ids_path, 'r') as file:\n",
    "        valid_ids = yaml.load(file, Loader=yaml.FullLoader)\n",
    "    valid_oof = oof[oof.spectrogram_id.isin(valid_ids)]\n",
    "    oof_expertnum_filter = valid_oof[(valid_oof[\"total_evaluators\"] >= LB_EXPERTNUM_THR_LOW) & (valid_oof[\"total_evaluators\"] <= LB_EXPERTNUM_THR_HIGH)]\n",
    "    print(f\"expert num filtered score:\", oof_expertnum_filter[\"score\"].mean())\n",
    "    display(oof_expertnum_filter.groupby(\"expert_consensus\")[\"score\"].mean())"
   ]
  },
  {
   "cell_type": "markdown",
   "metadata": {},
   "source": [
    "# model3 tf_efficientnet_b1_ns oof check"
   ]
  },
  {
   "cell_type": "code",
   "execution_count": 44,
   "metadata": {},
   "outputs": [
    {
     "name": "stdout",
     "output_type": "stream",
     "text": [
      "0.6331114417486615\n",
      "0.4876389033908646\n",
      "===\n",
      "fold0: 0.6465620285251277\n"
     ]
    },
    {
     "data": {
      "text/plain": [
       "expert_consensus\n",
       "GPD        0.649955\n",
       "GRDA       1.008953\n",
       "LPD        0.704020\n",
       "LRDA       1.325099\n",
       "Other      0.437669\n",
       "Seizure    0.650809\n",
       "Name: score, dtype: float64"
      ]
     },
     "metadata": {},
     "output_type": "display_data"
    },
    {
     "name": "stdout",
     "output_type": "stream",
     "text": [
      "===\n",
      "fold1: 0.627139763768375\n"
     ]
    },
    {
     "data": {
      "text/plain": [
       "expert_consensus\n",
       "GPD        0.549679\n",
       "GRDA       0.918558\n",
       "LPD        0.833228\n",
       "LRDA       1.492714\n",
       "Other      0.385005\n",
       "Seizure    0.629807\n",
       "Name: score, dtype: float64"
      ]
     },
     "metadata": {},
     "output_type": "display_data"
    },
    {
     "name": "stdout",
     "output_type": "stream",
     "text": [
      "===\n",
      "fold2: 0.6254688342275185\n"
     ]
    },
    {
     "data": {
      "text/plain": [
       "expert_consensus\n",
       "GPD        0.525375\n",
       "GRDA       1.016393\n",
       "LPD        0.657885\n",
       "LRDA       1.353474\n",
       "Other      0.430086\n",
       "Seizure    0.648030\n",
       "Name: score, dtype: float64"
      ]
     },
     "metadata": {},
     "output_type": "display_data"
    },
    {
     "name": "stdout",
     "output_type": "stream",
     "text": [
      "===\n",
      "fold3: 0.6042263729987455\n"
     ]
    },
    {
     "data": {
      "text/plain": [
       "expert_consensus\n",
       "GPD        0.542366\n",
       "GRDA       0.867700\n",
       "LPD        0.632767\n",
       "LRDA       1.465621\n",
       "Other      0.427020\n",
       "Seizure    0.613549\n",
       "Name: score, dtype: float64"
      ]
     },
     "metadata": {},
     "output_type": "display_data"
    },
    {
     "name": "stdout",
     "output_type": "stream",
     "text": [
      "===\n",
      "fold4: 0.6621363282314905\n"
     ]
    },
    {
     "data": {
      "text/plain": [
       "expert_consensus\n",
       "GPD        0.599302\n",
       "GRDA       0.910732\n",
       "LPD        0.789097\n",
       "LRDA       1.601162\n",
       "Other      0.374676\n",
       "Seizure    0.801073\n",
       "Name: score, dtype: float64"
      ]
     },
     "metadata": {},
     "output_type": "display_data"
    }
   ],
   "source": [
    "oof = model3_oof.copy()\n",
    "\n",
    "score_mean = oof[\"score\"].mean()\n",
    "print(score_mean)\n",
    "\n",
    "score_mean = oof[(oof[\"total_evaluators\"] >= LB_EXPERTNUM_THR_LOW) & (oof[\"total_evaluators\"] <= LB_EXPERTNUM_THR_HIGH)][\"score\"].mean()\n",
    "print(score_mean)\n",
    "\n",
    "for fold in range(5):\n",
    "    print(\"===\")\n",
    "    valid_ids_path = f\"/kaggle/input/valid_spec_ids_fold{fold}.yaml\"\n",
    "    with open(valid_ids_path, 'r') as file:\n",
    "        valid_ids = yaml.load(file, Loader=yaml.FullLoader)\n",
    "    valid_oof = oof[oof.spectrogram_id.isin(valid_ids)]\n",
    "    print(f\"fold{fold}:\", valid_oof[\"score\"].mean())\n",
    "    display(valid_oof.groupby(\"expert_consensus\")[\"score\"].mean())\n",
    "    \n",
    "    "
   ]
  },
  {
   "cell_type": "code",
   "execution_count": 45,
   "metadata": {},
   "outputs": [
    {
     "name": "stdout",
     "output_type": "stream",
     "text": [
      "===\n",
      "expert num filtered score: 0.4788179070751523\n"
     ]
    },
    {
     "data": {
      "text/plain": [
       "expert_consensus\n",
       "GPD        0.512898\n",
       "GRDA       0.599198\n",
       "LPD        0.534727\n",
       "LRDA       0.739143\n",
       "Other      0.404657\n",
       "Seizure    0.298442\n",
       "Name: score, dtype: float64"
      ]
     },
     "metadata": {},
     "output_type": "display_data"
    },
    {
     "name": "stdout",
     "output_type": "stream",
     "text": [
      "===\n",
      "expert num filtered score: 0.47764656511757214\n"
     ]
    },
    {
     "data": {
      "text/plain": [
       "expert_consensus\n",
       "GPD        0.396283\n",
       "GRDA       0.593082\n",
       "LPD        0.609587\n",
       "LRDA       0.864521\n",
       "Other      0.397937\n",
       "Seizure    0.300110\n",
       "Name: score, dtype: float64"
      ]
     },
     "metadata": {},
     "output_type": "display_data"
    },
    {
     "name": "stdout",
     "output_type": "stream",
     "text": [
      "===\n",
      "expert num filtered score: 0.4945787892443918\n"
     ]
    },
    {
     "data": {
      "text/plain": [
       "expert_consensus\n",
       "GPD        0.496085\n",
       "GRDA       0.657351\n",
       "LPD        0.558161\n",
       "LRDA       0.749241\n",
       "Other      0.423402\n",
       "Seizure    0.361125\n",
       "Name: score, dtype: float64"
      ]
     },
     "metadata": {},
     "output_type": "display_data"
    },
    {
     "name": "stdout",
     "output_type": "stream",
     "text": [
      "===\n",
      "expert num filtered score: 0.4885989597632044\n"
     ]
    },
    {
     "data": {
      "text/plain": [
       "expert_consensus\n",
       "GPD        0.508452\n",
       "GRDA       0.454176\n",
       "LPD        0.607965\n",
       "LRDA       0.876858\n",
       "Other      0.414593\n",
       "Seizure    0.281124\n",
       "Name: score, dtype: float64"
      ]
     },
     "metadata": {},
     "output_type": "display_data"
    },
    {
     "name": "stdout",
     "output_type": "stream",
     "text": [
      "===\n",
      "expert num filtered score: 0.4985176640822039\n"
     ]
    },
    {
     "data": {
      "text/plain": [
       "expert_consensus\n",
       "GPD        0.465569\n",
       "GRDA       0.459304\n",
       "LPD        0.704773\n",
       "LRDA       1.071496\n",
       "Other      0.388896\n",
       "Seizure    0.242123\n",
       "Name: score, dtype: float64"
      ]
     },
     "metadata": {},
     "output_type": "display_data"
    }
   ],
   "source": [
    "for fold in range(5):\n",
    "    print(\"===\")\n",
    "    valid_ids_path = f\"/kaggle/input/valid_spec_ids_fold{fold}.yaml\"\n",
    "    with open(valid_ids_path, 'r') as file:\n",
    "        valid_ids = yaml.load(file, Loader=yaml.FullLoader)\n",
    "    valid_oof = oof[oof.spectrogram_id.isin(valid_ids)]\n",
    "    oof_expertnum_filter = valid_oof[(valid_oof[\"total_evaluators\"] >= LB_EXPERTNUM_THR_LOW) & (valid_oof[\"total_evaluators\"] <= LB_EXPERTNUM_THR_HIGH)]\n",
    "    print(f\"expert num filtered score:\", oof_expertnum_filter[\"score\"].mean())\n",
    "    display(oof_expertnum_filter.groupby(\"expert_consensus\")[\"score\"].mean())"
   ]
  },
  {
   "cell_type": "code",
   "execution_count": null,
   "metadata": {},
   "outputs": [],
   "source": []
  }
 ],
 "metadata": {
  "kernelspec": {
   "display_name": "base",
   "language": "python",
   "name": "python3"
  },
  "language_info": {
   "codemirror_mode": {
    "name": "ipython",
    "version": 3
   },
   "file_extension": ".py",
   "mimetype": "text/x-python",
   "name": "python",
   "nbconvert_exporter": "python",
   "pygments_lexer": "ipython3",
   "version": "3.10.12"
  }
 },
 "nbformat": 4,
 "nbformat_minor": 2
}
